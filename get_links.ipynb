{
 "cells": [
  {
   "cell_type": "markdown",
   "id": "32766f9f",
   "metadata": {},
   "source": [
    "# Retrieve links from website"
   ]
  },
  {
   "cell_type": "code",
   "execution_count": null,
   "id": "35acde64",
   "metadata": {},
   "outputs": [],
   "source": [
    "import requests\n",
    "from bs4 import BeautifulSoup\n",
    "import re\n",
    "import os\n",
    "from dotenv import load_dotenv\n",
    "\n",
    "\n",
    "load_dotenv()\n",
    "base_url = os.getenv(\"BASE_URL\")\n",
    "thread_links = []\n",
    "\n",
    "\n",
    "# regex สำหรับตรวจสอบลิงก์กระทู้\n",
    "thread_pattern = re.compile(r\"^/forums/[^/]+/\\d+$\")\n",
    "\n",
    "for page in range(1, 72):  # หน้า 1 ถึง 71\n",
    "    url = f\"{base_url}{page}\"\n",
    "    response = requests.get(url)\n",
    "    soup = BeautifulSoup(response.text, \"html.parser\")\n",
    "\n",
    "    for a_tag in soup.find_all(\"a\", href=True):\n",
    "        href = a_tag[\"href\"]\n",
    "        if thread_pattern.match(href):\n",
    "            full_url = \"https://www.agnoshealth.com\" + href\n",
    "            if full_url not in thread_links:\n",
    "                thread_links.append(full_url)\n",
    "\n",
    "# แสดงผลลิงก์ทั้งหมด\n",
    "for link in thread_links:\n",
    "    print(link)\n",
    "# Save the links to a file\n",
    "with open(\"forum_links.txt\", \"w\", encoding=\"utf-8\") as f:\n",
    "    for link in thread_links:\n",
    "        f.write(link + \"\\n\")\n",
    "\n",
    "\n",
    "print(f\"Saved {len(thread_links)} thread links to forum_links.txt.\")\n"
   ]
  }
 ],
 "metadata": {
  "kernelspec": {
   "display_name": "Python 3",
   "language": "python",
   "name": "python3"
  },
  "language_info": {
   "codemirror_mode": {
    "name": "ipython",
    "version": 3
   },
   "file_extension": ".py",
   "mimetype": "text/x-python",
   "name": "python",
   "nbconvert_exporter": "python",
   "pygments_lexer": "ipython3",
   "version": "3.13.3"
  }
 },
 "nbformat": 4,
 "nbformat_minor": 5
}
