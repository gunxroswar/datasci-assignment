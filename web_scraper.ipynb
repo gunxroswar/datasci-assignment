{
 "cells": [
  {
   "cell_type": "code",
   "execution_count": 1,
   "id": "e8a4dabb",
   "metadata": {},
   "outputs": [],
   "source": [
    "import requests\n",
    "from bs4 import BeautifulSoup\n",
    "import re\n",
    "import json"
   ]
  },
  {
   "cell_type": "code",
   "execution_count": 6,
   "id": "04a32092",
   "metadata": {},
   "outputs": [],
   "source": [
    "url_list = []\n",
    "\n",
    "with open(\"forum_links.txt\", \"r\", encoding=\"utf-8\") as f:\n",
    "    thread_links = f.read().splitlines()\n",
    "    url_list.extend(thread_links)\n",
    "\n",
    "\n"
   ]
  },
  {
   "cell_type": "code",
   "execution_count": 7,
   "id": "3ce399ae",
   "metadata": {},
   "outputs": [],
   "source": [
    "def web_scraper(url):\n",
    "    #url = \"https://www.agnoshealth.com/forums/กระเพาะปัสสาวะอักเสบ/2674\"\n",
    "    response = requests.get(url)\n",
    "    soup = BeautifulSoup(response.text, \"html.parser\")\n",
    "\n",
    "    # subject จาก meta name=\"disease\"\n",
    "    subject = soup.find(\"meta\", attrs={\"name\": \"disease\"})\n",
    "    subject = subject[\"content\"].strip() if subject else \"\"\n",
    "\n",
    "    # gender และ age จาก meta name=\"publisher\"\n",
    "    publisher = soup.find(\"meta\", attrs={\"name\": \"publisher\"})\n",
    "    gender = age = \"\"\n",
    "    if publisher:\n",
    "        pub_text = publisher[\"content\"]\n",
    "        gender_match = re.search(r\"เพศ:\\s*(ชาย|หญิง)\", pub_text)\n",
    "        age_match = re.search(r\"อายุ:\\s*(\\d+)\", pub_text)\n",
    "        gender = gender_match.group(1) if gender_match else \"\"\n",
    "        age = age_match.group(1) if age_match else \"\"\n",
    "\n",
    "    # symptoms จาก meta name=\"keywords\"\n",
    "    keywords = soup.find(\"meta\", attrs={\"name\": \"keywords\"})\n",
    "    symptoms = []\n",
    "    if keywords:\n",
    "        symptoms = [kw.strip() for kw in keywords[\"content\"].split(\",\")]\n",
    "\n",
    "    # question จาก <span class=\"font-bold text-lg\">\n",
    "    question_tag = soup.find(\"span\", class_=\"font-bold text-lg\")\n",
    "    question = question_tag.get_text(strip=True) if question_tag else \"\"\n",
    "\n",
    "    # answer จาก <p class=\"mt-4\">\n",
    "    answer_tag = soup.find(\"p\", class_=\"mt-4\")\n",
    "    answer = answer_tag.get_text(strip=True) if answer_tag else \"\"\n",
    "\n",
    "    # สร้าง dictionary ตามที่คุณต้องการ\n",
    "    data = {\n",
    "        \"subject\": subject,\n",
    "        \"gender\": gender.strip(),\n",
    "        \"age\": age.strip(),\n",
    "        \"symptoms\": symptoms,\n",
    "        \"question\": question,\n",
    "        \"answer\": answer\n",
    "    }\n",
    "\n",
    "    return data"
   ]
  },
  {
   "cell_type": "code",
   "execution_count": null,
   "id": "7f0c66a7",
   "metadata": {},
   "outputs": [],
   "source": [
    "json_list = []\n",
    "\n",
    "for url in url_list:\n",
    "    json_list.append(web_scraper(url))"
   ]
  },
  {
   "cell_type": "code",
   "execution_count": null,
   "id": "49773c9a",
   "metadata": {},
   "outputs": [
    {
     "ename": "NameError",
     "evalue": "name 'json_list' is not defined",
     "output_type": "error",
     "traceback": [
      "\u001b[31m---------------------------------------------------------------------------\u001b[39m",
      "\u001b[31mNameError\u001b[39m                                 Traceback (most recent call last)",
      "\u001b[36mCell\u001b[39m\u001b[36m \u001b[39m\u001b[32mIn[4]\u001b[39m\u001b[32m, line 1\u001b[39m\n\u001b[32m----> \u001b[39m\u001b[32m1\u001b[39m \u001b[43mjson_list\u001b[49m[\u001b[32m0\u001b[39m][\u001b[33m'\u001b[39m\u001b[33mage\u001b[39m\u001b[33m'\u001b[39m].type()\n",
      "\u001b[31mNameError\u001b[39m: name 'json_list' is not defined"
     ]
    }
   ],
   "source": [
    "json_list[0]['age'].type()"
   ]
  },
  {
   "cell_type": "code",
   "execution_count": null,
   "id": "fcebc6b3",
   "metadata": {},
   "outputs": [],
   "source": [
    "# เซฟทั้งหมดเป็นไฟล์เดียว\n",
    "with open(\"data.json\", \"w\", encoding=\"utf-8\") as f:\n",
    "    json.dump(json_list, f, ensure_ascii=False, indent=2)\n"
   ]
  }
 ],
 "metadata": {
  "kernelspec": {
   "display_name": "Python 3",
   "language": "python",
   "name": "python3"
  },
  "language_info": {
   "codemirror_mode": {
    "name": "ipython",
    "version": 3
   },
   "file_extension": ".py",
   "mimetype": "text/x-python",
   "name": "python",
   "nbconvert_exporter": "python",
   "pygments_lexer": "ipython3",
   "version": "3.13.3"
  }
 },
 "nbformat": 4,
 "nbformat_minor": 5
}
