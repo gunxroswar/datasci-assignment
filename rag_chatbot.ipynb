{
 "cells": [
  {
   "cell_type": "code",
   "execution_count": 39,
   "id": "a1076fd2",
   "metadata": {},
   "outputs": [],
   "source": [
    "from langchain_community.llms import Ollama\n",
    "from langchain_community.embeddings import OllamaEmbeddings\n",
    "from langchain_community.vectorstores import FAISS\n",
    "from langchain.text_splitter import RecursiveCharacterTextSplitter\n",
    "from langchain.chains import RetrievalQA\n",
    "from langchain.docstore.document import Document\n",
    "from langchain.schema import HumanMessage\n",
    "from langchain_community.chat_models import ChatOllama\n",
    "from langchain.prompts import ChatPromptTemplate\n",
    "from langchain_core.output_parsers import StrOutputParser, CommaSeparatedListOutputParser\n",
    "from langchain_community.document_loaders import TextLoader\n",
    "from langchain.text_splitter import RecursiveCharacterTextSplitter\n",
    "from langchain.schema.runnable import RunnablePassthrough\n",
    "from langchain.schema.runnable import RunnableLambda\n",
    "from operator import itemgetter\n",
    "\n",
    "import json\n",
    "from langchain.docstore.document import Document\n"
   ]
  },
  {
   "cell_type": "markdown",
   "id": "07493dd9",
   "metadata": {},
   "source": [
    "# Data Preparation"
   ]
  },
  {
   "cell_type": "markdown",
   "id": "b314011c",
   "metadata": {},
   "source": [
    "## Import scraped data from scraper"
   ]
  },
  {
   "cell_type": "code",
   "execution_count": 40,
   "id": "8839010b",
   "metadata": {},
   "outputs": [],
   "source": [
    "# from scraper import json_list"
   ]
  },
  {
   "cell_type": "code",
   "execution_count": 41,
   "id": "41abd535",
   "metadata": {},
   "outputs": [],
   "source": [
    "# json_list[:5]"
   ]
  },
  {
   "cell_type": "code",
   "execution_count": 42,
   "id": "e3712c9d",
   "metadata": {},
   "outputs": [],
   "source": [
    "# # เซฟทั้งหมดเป็นไฟล์เดียว\n",
    "# with open(\"data.json\", \"w\", encoding=\"utf-8\") as f:\n",
    "#     json.dump(json_list, f, ensure_ascii=False, indent=2)\n"
   ]
  },
  {
   "cell_type": "markdown",
   "id": "b2c52c3c",
   "metadata": {},
   "source": [
    "## อ่านข้อมูลจาก json มาเก็บในลิสต์"
   ]
  },
  {
   "cell_type": "code",
   "execution_count": 43,
   "id": "ac151d31",
   "metadata": {},
   "outputs": [],
   "source": [
    "json_list_x = []\n",
    "with open(\"data.json\", \"r\", encoding=\"utf-8\") as f:\n",
    "    json_list_x = json.load(f)\n"
   ]
  },
  {
   "cell_type": "markdown",
   "id": "aadc142e",
   "metadata": {},
   "source": [
    "## Change json_list to Document"
   ]
  },
  {
   "cell_type": "code",
   "execution_count": 44,
   "id": "b950fe3f",
   "metadata": {},
   "outputs": [],
   "source": [
    "documents = []\n",
    "for item in json_list_x:\n",
    "    content = f\"subject: {item['subject']}\\n gender: {item['gender']}\\n age: {item['age']}\\n symptoms: {', '.join(item['symptoms'])}\\n question: {item['question']}\\n answer: {item['answer']}\"\n",
    "    documents.append(Document(page_content=content, metadata={\"source\": \"scraper\"}))\n",
    "\n"
   ]
  },
  {
   "cell_type": "markdown",
   "id": "47f080b0",
   "metadata": {},
   "source": [
    "## Embeding and Store to VectorDB"
   ]
  },
  {
   "cell_type": "code",
   "execution_count": 45,
   "id": "971ad35c",
   "metadata": {},
   "outputs": [],
   "source": [
    "embedder = OllamaEmbeddings(model=\"bge-m3\")\n"
   ]
  },
  {
   "cell_type": "code",
   "execution_count": 46,
   "id": "57d9c493",
   "metadata": {},
   "outputs": [
    {
     "name": "stdout",
     "output_type": "stream",
     "text": [
      "Loaded vector store from disk\n"
     ]
    }
   ],
   "source": [
    "# vector_store = FAISS.from_documents(documents, embedder)\n",
    "\n",
    "vector_store = FAISS.load_local(\"D:/faiss_storage\", \n",
    "                                embedder,\n",
    "                                allow_dangerous_deserialization=True\n",
    ")\n",
    "print(\"Loaded vector store from disk\")"
   ]
  },
  {
   "cell_type": "code",
   "execution_count": 47,
   "id": "56da5200",
   "metadata": {},
   "outputs": [],
   "source": [
    "retriever = vector_store.as_retriever()\n",
    "\n"
   ]
  },
  {
   "cell_type": "markdown",
   "id": "2f16504b",
   "metadata": {},
   "source": [
    "# Create chat"
   ]
  },
  {
   "cell_type": "code",
   "execution_count": 48,
   "id": "178162f3",
   "metadata": {},
   "outputs": [],
   "source": [
    "llm = ChatOllama(model=\"scb10x/llama3.1-typhoon2-8b-instruct\",\n",
    "                    temperature=0.4)\n"
   ]
  },
  {
   "cell_type": "code",
   "execution_count": null,
   "id": "bb4052ac",
   "metadata": {},
   "outputs": [],
   "source": []
  },
  {
   "cell_type": "code",
   "execution_count": 49,
   "id": "b5d14dff",
   "metadata": {},
   "outputs": [],
   "source": [
    "prompt = ChatPromptTemplate.from_messages([\n",
    "    (\"system\", \n",
    "     \"คุณคือผู้แพทย์เชี่ยวชาญด้านสุขภาพที่มีความรู้ลึกซึ้งทั้งจากประสบการณ์และฐานข้อมูลทางการแพทย์ \"\n",
    "     \"คุณจะต้องให้คำแนะนำที่แม่นยำและปลอดภัย โดยเริ่มต้นด้วยประโยค 'คำตอบจากแพทย์ผู้เชี่ยวชาญ' \"\n",
    "     \"จากนั้นให้คำตอบแบ่งเป็นหัวข้อ: สาเหตุที่เป็นไปได้, แนวทางการดูแลเบื้องต้น, คำแนะนำเพิ่มเติม \"\n",
    "     \" ใส่ข้อความ 'คนไข้สามารถค้นหาแพทย์เฉพาะทางที่ต้องการและทำนัดหมายได้ทางเว็บไซต์ของเราที่ลิ้งค์นี้ \\nhttps://bit.ly/doctor-refer-agnos' ในช่วงท้ายของการสนทนา\"),\n",
    "    \n",
    "    (\"human\", \n",
    "     \"มีผู้ป่วยที่มีข้อมูลดังนี้:\\n\"\n",
    "     \"- หัวข้อ: {subject}\\n\"\n",
    "     \"- เพศ: {gender}\\n\"\n",
    "     \"- อายุ: {age} ปี\\n\"\n",
    "     \"- อาการ: {symptoms}\\n\"\n",
    "     \"- คำถาม: {question}\\n\"\n",
    "     \"ข้อมูลจากฐานข้อมูลที่เกี่ยวข้อง:\\n{context}\\n\"\n",
    "     \"กรุณาวิเคราะห์และให้คำตอบอย่างละเอียด โดยอ้างอิงจากทั้งความรู้ของคุณและข้อมูลที่ให้มาในส่วนของ context อย่างรอบคอบ\"\n",
    "     \"หากข้อมูลใน context ไม่เพียงพอ ให้ใช้ความรู้ทั่วไปของคุณในการตอบคำถามอย่างระมัดระวังและแนะนำให้ผู้ป่วยไปพบแพทย์ผู้เชี่ยวชาญ\"\n",
    "     )\n",
    "])"
   ]
  },
  {
   "cell_type": "code",
   "execution_count": 50,
   "id": "f28ef2a7",
   "metadata": {},
   "outputs": [],
   "source": [
    "from langchain.schema.runnable import RunnableLambda\n",
    "\n",
    "def fill_missing_fields(inputs):\n",
    "    return {\n",
    "        \"subject\": inputs.get(\"subject\", \"ไม่ระบุ\"),\n",
    "        \"gender\": inputs.get(\"gender\", \"ไม่ระบุ\"),\n",
    "        \"age\": inputs.get(\"age\", \"ไม่ระบุ\"),\n",
    "        \"symptoms\": inputs.get(\"symptoms\", \"ไม่ระบุ\"),\n",
    "        \"question\": inputs.get(\"question\", \"ไม่ระบุ\"),\n",
    "        \"context\": inputs.get(\"context\", \"ไม่มีข้อมูลจากฐานข้อมูล\")\n",
    "    }\n",
    "\n",
    "input_preprocessor = RunnableLambda(fill_missing_fields)\n"
   ]
  },
  {
   "cell_type": "code",
   "execution_count": 51,
   "id": "6c0d49bb",
   "metadata": {},
   "outputs": [],
   "source": [
    "rag_chain = (\n",
    "    {\n",
    "        \"context\": retriever,\n",
    "        \"subject\": RunnablePassthrough(),\n",
    "        \"gender\": RunnablePassthrough(),\n",
    "        \"age\": RunnablePassthrough(),\n",
    "        \"symptoms\": RunnablePassthrough(),\n",
    "        \"question\": RunnablePassthrough(),\n",
    "\n",
    "    }\n",
    "    | input_preprocessor\n",
    "    | prompt\n",
    "    | llm\n",
    "    | StrOutputParser()\n",
    ")"
   ]
  },
  {
   "cell_type": "code",
   "execution_count": 52,
   "id": "c290fc71",
   "metadata": {},
   "outputs": [],
   "source": [
    "data_input =[ {\n",
    "    \"subject\": \"อาการปวดหัวเรื้อรัง\",\n",
    "    \"gender\": \"หญิง\",\n",
    "    \"age\": \"35\",\n",
    "    \"symptoms\": \"ปวดหัวบริเวณขมับทั้งสองข้างมาเกือบทุกวัน โดยเฉพาะช่วงบ่าย รู้สึกตึงๆ และมีอาการคลื่นไส้ร่วมด้วย\",\n",
    "    \"question\": \"อาการแบบนี้เกิดจากอะไร และควรดูแลตัวเองอย่างไร?\"\n",
    "},\n",
    "{\n",
    "    \"subject\": \"การนอนหลับในผู้สูงอายุ\",\n",
    "    \"gender\": \"ชาย\",\n",
    "    \"age\": \"68\",\n",
    "    \"symptoms\": \"นอนหลับไม่สนิท ตื่นบ่อยตอนกลางคืน และรู้สึกไม่สดชื่นตอนเช้า\",\n",
    "    \"question\": \"ควรปรับพฤติกรรมหรือมีวิธีดูแลสุขภาพอย่างไรให้หลับดีขึ้น?\"\n",
    "},\n",
    "{\n",
    "    \"subject\": \"ภาวะขาดวิตามินบี 12 (Vitamin B12 deficiency)\",\n",
    "    \"gender\": \"หญิง\",\n",
    "    \"age\": \"29\",\n",
    "    \"symptoms\": [\n",
    "      \"เหนื่อยง่าย\",\n",
    "      \"มือเท้าชา\",\n",
    "      \"เวียนหัว\",\n",
    "      \"ลืมง่าย\",\n",
    "      \"อ่อนแรง\"\n",
    "    ],\n",
    "    \"question\": \"ช่วงนี้รู้สึกเหนื่อยง่ายมากค่ะ เดินนิดเดียวก็หอบ มือเท้าชาบ่อย ๆ โดยเฉพาะตอนตื่นนอน รู้สึกเวียนหัวและลืมง่ายขึ้นเรื่อย ๆ อยากทราบว่าอาการแบบนี้เกิดจากอะไร และควรตรวจอะไรบ้างคะ?\"\n",
    "  },\n",
    "  {\n",
    "    \"subject\": \"โรคกรดไหลย้อน (GERD)\",\n",
    "    \"gender\": \"ชาย\",\n",
    "    \"age\": \"34\",\n",
    "    \"symptoms\": [\n",
    "      \"แสบร้อนกลางอก\",\n",
    "      \"เรอเปรี้ยว\",\n",
    "      \"ไอเรื้อรัง\",\n",
    "      \"แน่นหน้าอก\",\n",
    "      \"กลืนลำบาก\"\n",
    "    ],\n",
    "    \"question\": \"ผมมีอาการแสบร้อนกลางอกหลังทานอาหาร โดยเฉพาะอาหารเผ็ดหรือมัน ๆ เรอเปรี้ยวบ่อยมาก และบางครั้งรู้สึกแน่นหน้าอกจนหายใจไม่สะดวก อยากทราบว่าเป็นกรดไหลย้อนหรือเปล่า และควรปรับพฤติกรรมยังไงครับ?\"\n",
    "  },\n",
    "  {\n",
    "    \"subject\": \"ภาวะถุงน้ำรังไข่หลายใบ (PCOS)\",\n",
    "    \"gender\": \"หญิง\",\n",
    "    \"age\": \"26\",\n",
    "    \"symptoms\": [\n",
    "      \"ประจำเดือนมาไม่ปกติ\",\n",
    "      \"สิวขึ้นเยอะ\",\n",
    "      \"ขนดก\",\n",
    "      \"น้ำหนักขึ้นง่าย\",\n",
    "      \"ปวดท้องน้อย\"\n",
    "    ],\n",
    "    \"question\": \"ประจำเดือนมาไม่ตรงเวลาเลยค่ะ บางเดือนก็ไม่มาเลย สิวขึ้นเยอะมากทั้งที่ดูแลผิวดีแล้ว ขนตามตัวก็ดูเยอะขึ้น น้ำหนักขึ้นง่ายมากทั้งที่กินเท่าเดิม อยากทราบว่าอาการแบบนี้เกี่ยวกับฮอร์โมนหรือเปล่า และควรไปตรวจอะไรบ้างคะ?\"\n",
    "  },\n",
    "  {\n",
    "    \"subject\": \"โรคภูมิแพ้อากาศ (Allergic Rhinitis)\",\n",
    "    \"gender\": \"ชาย\",\n",
    "    \"age\": \"18\",\n",
    "    \"symptoms\": [\n",
    "      \"จามบ่อย\",\n",
    "      \"คัดจมูก\",\n",
    "      \"น้ำมูกไหล\",\n",
    "      \"คันจมูก\",\n",
    "      \"ตาแดง\"\n",
    "    ],\n",
    "    \"question\": \"ผมมีอาการจามบ่อยมาก โดยเฉพาะตอนเช้า ๆ หรือเวลาอยู่ในห้องแอร์ น้ำมูกไหล คัดจมูก และบางครั้งตาแดงคันร่วมด้วย อยากทราบว่าเป็นภูมิแพ้อากาศหรือเปล่า และมีวิธีดูแลตัวเองยังไงบ้างครับ?\"\n",
    "  }\n",
    "]"
   ]
  },
  {
   "cell_type": "code",
   "execution_count": null,
   "id": "9f827916",
   "metadata": {},
   "outputs": [],
   "source": []
  },
  {
   "cell_type": "code",
   "execution_count": 53,
   "id": "8da0c8d7",
   "metadata": {},
   "outputs": [],
   "source": [
    "# for i, data in enumerate(data_input):\n",
    "#     result = rag_chain.invoke(data)\n",
    "#     print(f\"หัวข้อที่ {i+1}\\n\")\n",
    "#     print(result)\n",
    "\n",
    "\n"
   ]
  },
  {
   "cell_type": "code",
   "execution_count": 54,
   "id": "0e392f99",
   "metadata": {},
   "outputs": [
    {
     "name": "stdout",
     "output_type": "stream",
     "text": [
      "คำตอบจากแพทย์ผู้เชี่ยวชาญ\n",
      "\n",
      "สาเหตุที่เป็นไปได้:\n",
      "อาการแสบคอ แสบท้อง ท้องอืด และจุกคอที่ผู้ป่วยกล่าวถึง อาจเกิดจากกรดไหลย้อน (GERD) ซึ่งเป็นภาวะที่กรดในกระเพาะอาหารไหลย้อนขึ้นไปในหลอดอาหาร ทำให้เกิดอาการแสบคอ แสบท้อง และจุกแน่นท้องได้\n",
      "\n",
      "แนวทางการดูแลเบื้องต้น:\n",
      "1. หลีกเลี่ยงการกินอาหารที่มีกรดสูง เช่น น้ำอัดลม กาแฟ และอาหารเผ็ด\n",
      "2. รับประทานอาหารในปริมาณที่พอเหมาะ ไม่ควรทานมากเกินไป\n",
      "3. งดการนอนหลังรับประทานอาหาร 2-3 ชั่วโมง\n",
      "4. ปรึกษาแพทย์เกี่ยวกับการใช้ยาลดกรด เช่น omeprazole หรือ ranitidine\n",
      "\n",
      "คำแนะนำเพิ่มเติม:\n",
      "หากอาการยังคงอยู่หรือแย่ลง ควรไปพบแพทย์เพื่อทำการตรวจวินิจฉัยและรับคำแนะนำที่เหมาะสม นอกจากนี้ หากมีอาการเจ็บหน้าอก ปวดท้อง หรือใจสั่นร่วมด้วย อาจต้องพิจารณาโรคอื่นๆ ที่อาจเป็นสาเหตุได้ เช่น โรคหัวใจหรือกระเพาะอาหารอักเสบ\n",
      "\n",
      "คนไข้สามารถค้นหาแพทย์เฉพาะทางที่ต้องการและทำนัดหมายได้ทางเว็บไซต์ของเราที่ลิ้งค์นี้ \n",
      "https://bit.ly/doctor-refer-agnos\n"
     ]
    }
   ],
   "source": [
    "my_question = rag_chain.invoke({    \n",
    "    \"subject\": \"กรดไหลย้อน อาหารไม่ย่อย\",\n",
    "    \"gender\": \"ชาย\",\n",
    "    \"age\": \"24\",\n",
    "    \"symptoms\": \"แสบอก, แสบคอ, ท้องอืด, อาหารไม่ย่อย, จุกคอ\",\n",
    "    \"question\": \"มีคืนนึงตอนผมกำลังจะนอนจู่ๆผมก็รู้สึกแสบคอขึ้นมา แล้วพอตื่นมาก็รู้สึกว่าเหมือนมีก้อนอะไรมาจุกที่คอ ผมเลยค้นหาจากอินเตอร์เน็ตก็พบว่าผมเป็นกรดไหลย้อนจึงไปซื้อยาที่ร้านขายยามากินเป็นเวลา 1 อาทิตย์ จนพอผมเริ่มรู้สึกดีขึ้นผมจึงไปกินบุฟเฟ่ต์ชาบูแล้วทีนี้ผมรู้สึกว่าอาหารมันไม่ย่อยเลยแม้แต่ตอนกำลังจะนอนก็รู้สึกได้ว่ามีอาหารอยู่ในท้องจนถึงวัดถัดไป ควรรักษาต่อยังไงดีครับ\"\n",
    "})\n",
    "\n",
    "print(my_question)"
   ]
  },
  {
   "cell_type": "code",
   "execution_count": 55,
   "id": "101a1f30",
   "metadata": {},
   "outputs": [
    {
     "name": "stdout",
     "output_type": "stream",
     "text": [
      "คำตอบจากแพทย์ผู้เชี่ยวชาญ:\n",
      "\n",
      "สาเหตุที่เป็นไปได้: อาการนอนไม่หลับอาจเกิดจากความเครียด ความวิตกกังวล หรือปัญหาทางจิตใจ เช่น โรคซึมเศร้าหรือภาวะหมดไฟในการทำงาน (burnout syndrome) นอกจากนี้ยังอาจเกี่ยวข้องกับการเปลี่ยนแปลงในชีวิตประจำวัน เช่น การเปลี่ยนงาน การหย่าร้าง หรือการสูญเสียคนที่รัก\n",
      "\n",
      "แนวทางการดูแลเบื้องต้น: ลองปรับพฤติกรรมการนอนตามคำแนะนำที่ได้กล่าวไปข้างต้น เช่น จัดห้องนอนให้มีบรรยากาศเงียบสงบ ไม่มีแสงเสียงรบกวน ใช้ห้องนอนเพื่อการนอนเท่านั้น และพยายามไม่คิดเรื่องเครียดหรือกังวลในเวลานอน นอกจากนี้ควรมีการออกกำลังกายอย่างสม่ำเสมอ รับประทานอาหารที่มีประโยชน์ และหากิจกรรมผ่อนคลายทำเพื่อช่วยลดความเครียด\n",
      "\n",
      "คำแนะนำเพิ่มเติม: หากอาการนอนไม่หลับยังคงมีอยู่ หรือมีอาการอื่นๆ ที่เกี่ยวข้อง เช่น เศร้า หดหู่ วิตกกังวล ควรไปพบแพทย์หรือจิตแพทย์เพื่อรับการประเมินและรักษาอย่างเหมาะสม\n",
      "\n",
      "คนไข้สามารถค้นหาแพทย์เฉพาะทางที่ต้องการและทำนัดหมายได้ทางเว็บไซต์ของเราที่ลิ้งค์นี้ \n",
      "https://bit.ly/doctor-refer-agnos\n"
     ]
    }
   ],
   "source": [
    "my_question2 = rag_chain.invoke({    \n",
    "    \"question\": \"สวัสดีครับคือช่วงนี้ผมนอนไม่ค่อยหลับเวลานอนมันก็จะคิดฟุ้งซ่านตลอดเวลาหรือบางทีก็มีเพลงเล่นในหัวตลอดเวลาเลยทำให้นอนไม่พอ พอจะมีวิธีไหนช่วยจัดการไหมครับ\"\n",
    "})\n",
    "\n",
    "print(my_question2)"
   ]
  },
  {
   "cell_type": "code",
   "execution_count": 56,
   "id": "2ecb41ac",
   "metadata": {},
   "outputs": [
    {
     "name": "stdout",
     "output_type": "stream",
     "text": [
      "คำตอบจากแพทย์ผู้เชี่ยวชาญ:\n",
      "\n",
      "สาเหตุที่เป็นไปได้:\n",
      "อาการที่เกิดขึ้น เช่น เข่าดังก๊อกแก๊กเวลาเดินและปวดเข่า อาจเกิดจากหลายสาเหตุ ได้แก่ การบาดเจ็บของกล้ามเนื้อหรือกระดูก เอ็นอักเสบ หรือโรคข้อเข่าอักเสบ (Arthritis) ซึ่งอาจเป็นสาเหตุที่ทำให้เกิดเสียงและความเจ็บปวดในขณะเดิน\n",
      "\n",
      "แนวทางการดูแลเบื้องต้น:\n",
      "สำหรับการดูแลอาการที่เกิดขึ้น ควรเริ่มจากการพักการใช้งานเข่า เช่น หลีกเลี่ยงการเดินขึ้นลงบันไดหรือการกระโดด และใช้การประคบร้อนหรือเย็นเพื่อบรรเทาอาการปวด นอกจากนี้ควรทานยาแก้อักเสบที่ไม่ใช่สเตียรอยด์ (NSAIDs) เช่น diclofenac เพื่อลดอาการปวดและบวม หากอาการยังไม่ดีขึ้นหรือแย่ลง ควรไปพบแพทย์เพื่อทำการตรวจเพิ่มเติม\n",
      "\n",
      "คำแนะนำเพิ่มเติม:\n",
      "หากผู้ป่วยมีอาการที่ไม่ดีขึ้นหรือมีอาการอื่นๆ ร่วมด้วย เช่น อาการบวม แดง หรือร้อนบริเวณเข่า ควรไปพบแพทย์เฉพาะทางด้านกระดูกและข้อ เพื่อให้ได้รับการวินิจฉัยและการรักษาที่ถูกต้อง\n",
      "\n",
      "คนไข้สามารถค้นหาแพทย์เฉพาะทางที่ต้องการและทำนัดหมายได้ทางเว็บไซต์ของเราที่ลิ้งค์นี้ \n",
      "https://bit.ly/doctor-refer-agnos\n"
     ]
    }
   ],
   "source": [
    "my_question3 = rag_chain.invoke({    \n",
    "    \"subject\": \"เข่าดังก๊อกแก๊กเวลาเดิน\",\n",
    "    \"symptoms\": \"เข่าดังก๊อกแก๊กเวลาเดิน, ปวดเข่า\",\n",
    "    })\n",
    "print(my_question3)"
   ]
  },
  {
   "cell_type": "code",
   "execution_count": 57,
   "id": "dfdfb484",
   "metadata": {},
   "outputs": [
    {
     "name": "stdout",
     "output_type": "stream",
     "text": [
      "คำตอบจากแพทย์ผู้เชี่ยวชาญ:\n",
      "\n",
      "หัวข้อ: อาการเข่าอ่อนและข้อเท้าเกือบพลิก\n",
      "\n",
      "สาเหตุที่เป็นไปได้:\n",
      "อาการเข่าอ่อนและข้อเท้าเกือบพลิกอาจเกิดจากหลายสาเหตุ เช่น การบาดเจ็บที่ข้อต่อหรือกล้ามเนื้อรอบๆ, โรคข้ออักเสบ, หรือปัญหาทางระบบประสาท\n",
      "\n",
      "แนวทางการดูแลเบื้องต้น:\n",
      "1. พักการใช้งานของข้อต่อที่มีอาการ เช่น ลดการเดินหรือวิ่ง\n",
      "2. ใช้การประคบร้อนหรือเย็นเพื่อบรรเทาอาการเจ็บปวด\n",
      "3. ยกขาสูงเมื่ออยู่ในท่านั่งหรือนอน เพื่อลดการบวมและความดันในข้อต่อ\n",
      "4. รับประทานยาแก้ปวดตามที่แพทย์สั่ง\n",
      "\n",
      "คำแนะนำเพิ่มเติม:\n",
      "หากอาการไม่ดีขึ้นภายใน 1-2 สัปดาห์ หรือมีอาการรุนแรง เช่น ข้อต่อผิดรูปหรือบวมมาก ควรไปพบแพทย์เพื่อทำการตรวจวินิจฉัยและรักษาอย่างเหมาะสม\n",
      "\n",
      "คนไข้สามารถค้นหาแพทย์เฉพาะทางที่ต้องการและทำนัดหมายได้ทางเว็บไซต์ของเราที่ลิ้งค์นี้ \n",
      "https://bit.ly/doctor-refer-agnos\n"
     ]
    }
   ],
   "source": [
    "my_question4 = rag_chain.invoke({    \n",
    "    \"question\": \"รู้สึกเดินๆอยู่แล้วเข่าอ่อนบ่อยๆ ไม่ก็ข้อเท้าเกือบจะพลิกบ่อยๆ มันคืออาการอะไรครับ\"\n",
    "})\n",
    "print(my_question4)"
   ]
  },
  {
   "cell_type": "code",
   "execution_count": null,
   "id": "1f99efde",
   "metadata": {},
   "outputs": [],
   "source": []
  }
 ],
 "metadata": {
  "kernelspec": {
   "display_name": "Python 3",
   "language": "python",
   "name": "python3"
  },
  "language_info": {
   "codemirror_mode": {
    "name": "ipython",
    "version": 3
   },
   "file_extension": ".py",
   "mimetype": "text/x-python",
   "name": "python",
   "nbconvert_exporter": "python",
   "pygments_lexer": "ipython3",
   "version": "3.13.3"
  }
 },
 "nbformat": 4,
 "nbformat_minor": 5
}
