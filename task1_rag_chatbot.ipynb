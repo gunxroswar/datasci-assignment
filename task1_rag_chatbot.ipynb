{
 "cells": [
  {
   "cell_type": "code",
   "execution_count": 1,
   "id": "a1076fd2",
   "metadata": {},
   "outputs": [],
   "source": [
    "from langchain_community.llms import Ollama\n",
    "from langchain_community.embeddings import OllamaEmbeddings\n",
    "from langchain_community.vectorstores import FAISS\n",
    "from langchain.text_splitter import RecursiveCharacterTextSplitter\n",
    "from langchain.chains import RetrievalQA\n",
    "from langchain.docstore.document import Document\n",
    "from langchain.schema import HumanMessage\n",
    "from langchain_community.chat_models import ChatOllama\n",
    "from langchain.prompts import ChatPromptTemplate\n",
    "from langchain_core.output_parsers import StrOutputParser, CommaSeparatedListOutputParser\n",
    "from langchain_community.document_loaders import TextLoader\n",
    "from langchain.text_splitter import RecursiveCharacterTextSplitter\n",
    "from langchain.schema.runnable import RunnablePassthrough\n",
    "from langchain.schema.runnable import RunnableLambda\n",
    "from operator import itemgetter\n",
    "\n",
    "import json\n",
    "from langchain.docstore.document import Document\n"
   ]
  },
  {
   "cell_type": "markdown",
   "id": "07493dd9",
   "metadata": {},
   "source": [
    "# Data Preparation"
   ]
  },
  {
   "cell_type": "markdown",
   "id": "b314011c",
   "metadata": {},
   "source": [
    "## Import scraped data from scraper"
   ]
  },
  {
   "cell_type": "code",
   "execution_count": 2,
   "id": "8839010b",
   "metadata": {},
   "outputs": [],
   "source": [
    "# from scraper import json_list"
   ]
  },
  {
   "cell_type": "code",
   "execution_count": 3,
   "id": "41abd535",
   "metadata": {},
   "outputs": [],
   "source": [
    "# json_list[:5]"
   ]
  },
  {
   "cell_type": "code",
   "execution_count": 4,
   "id": "e3712c9d",
   "metadata": {},
   "outputs": [],
   "source": [
    "# # เซฟทั้งหมดเป็นไฟล์เดียว\n",
    "# with open(\"data.json\", \"w\", encoding=\"utf-8\") as f:\n",
    "#     json.dump(json_list, f, ensure_ascii=False, indent=2)\n"
   ]
  },
  {
   "cell_type": "markdown",
   "id": "b2c52c3c",
   "metadata": {},
   "source": [
    "## อ่านข้อมูลจาก json มาเก็บในลิสต์"
   ]
  },
  {
   "cell_type": "code",
   "execution_count": 2,
   "id": "ac151d31",
   "metadata": {},
   "outputs": [],
   "source": [
    "json_list_x = []\n",
    "with open(\"data.json\", \"r\", encoding=\"utf-8\") as f:\n",
    "    json_list_x = json.load(f)\n"
   ]
  },
  {
   "cell_type": "markdown",
   "id": "aadc142e",
   "metadata": {},
   "source": [
    "## Change json_list to Document"
   ]
  },
  {
   "cell_type": "code",
   "execution_count": 3,
   "id": "b950fe3f",
   "metadata": {},
   "outputs": [],
   "source": [
    "documents = []\n",
    "for item in json_list_x:\n",
    "    content = f\"subject: {item['subject']}\\n gender: {item['gender']}\\n age: {item['age']}\\n symptoms: {', '.join(item['symptoms'])}\\n question: {item['question']}\\n answer: {item['answer']}\"\n",
    "    documents.append(Document(page_content=content, metadata={\"source\": \"scraper\"}))\n",
    "\n"
   ]
  },
  {
   "cell_type": "markdown",
   "id": "47f080b0",
   "metadata": {},
   "source": [
    "## Embeding and Store to VectorDB"
   ]
  },
  {
   "cell_type": "code",
   "execution_count": 4,
   "id": "971ad35c",
   "metadata": {},
   "outputs": [
    {
     "name": "stderr",
     "output_type": "stream",
     "text": [
      "C:\\Users\\Thirachai\\AppData\\Local\\Temp\\ipykernel_25228\\2229192303.py:1: LangChainDeprecationWarning: The class `OllamaEmbeddings` was deprecated in LangChain 0.3.1 and will be removed in 1.0.0. An updated version of the class exists in the :class:`~langchain-ollama package and should be used instead. To use it run `pip install -U :class:`~langchain-ollama` and import as `from :class:`~langchain_ollama import OllamaEmbeddings``.\n",
      "  embedder = OllamaEmbeddings(model=\"bge-m3\")\n"
     ]
    }
   ],
   "source": [
    "embedder = OllamaEmbeddings(model=\"bge-m3\")\n"
   ]
  },
  {
   "cell_type": "code",
   "execution_count": 5,
   "id": "57d9c493",
   "metadata": {},
   "outputs": [
    {
     "name": "stdout",
     "output_type": "stream",
     "text": [
      "Loaded vector store from disk\n"
     ]
    }
   ],
   "source": [
    "#vector_store = FAISS.from_documents(documents, embedder)\n",
    "\n",
    "vector_store = FAISS.load_local(\"D:/faiss_storage\", \n",
    "                                embedder,\n",
    "                                allow_dangerous_deserialization=True\n",
    ")\n",
    "print(\"Loaded vector store from disk\")"
   ]
  },
  {
   "cell_type": "code",
   "execution_count": 6,
   "id": "56da5200",
   "metadata": {},
   "outputs": [],
   "source": [
    "retriever = vector_store.as_retriever()\n",
    "\n"
   ]
  },
  {
   "cell_type": "markdown",
   "id": "2f16504b",
   "metadata": {},
   "source": [
    "# Create chat"
   ]
  },
  {
   "cell_type": "markdown",
   "id": "50119c43",
   "metadata": {},
   "source": [
    "## Import llm"
   ]
  },
  {
   "cell_type": "code",
   "execution_count": 7,
   "id": "178162f3",
   "metadata": {},
   "outputs": [
    {
     "name": "stdout",
     "output_type": "stream",
     "text": [
      "model='scb10x/llama3.1-typhoon2-8b-instruct' temperature=0.4\n"
     ]
    },
    {
     "name": "stderr",
     "output_type": "stream",
     "text": [
      "C:\\Users\\Thirachai\\AppData\\Local\\Temp\\ipykernel_25228\\2354700130.py:1: LangChainDeprecationWarning: The class `ChatOllama` was deprecated in LangChain 0.3.1 and will be removed in 1.0.0. An updated version of the class exists in the :class:`~langchain-ollama package and should be used instead. To use it run `pip install -U :class:`~langchain-ollama` and import as `from :class:`~langchain_ollama import ChatOllama``.\n",
      "  llm = ChatOllama(model=\"scb10x/llama3.1-typhoon2-8b-instruct\",\n"
     ]
    }
   ],
   "source": [
    "llm = ChatOllama(model=\"scb10x/llama3.1-typhoon2-8b-instruct\",\n",
    "                    temperature=0.4)\n",
    "# from medpalm.model import MedPalm\n",
    "# llm = MedPalm()\n",
    "print(llm)"
   ]
  },
  {
   "cell_type": "code",
   "execution_count": null,
   "id": "566f1bfc",
   "metadata": {},
   "outputs": [
    {
     "name": "stdout",
     "output_type": "stream",
     "text": [
      "model='koesn/llama3-openbiollm-8b' temperature=0.4\n"
     ]
    }
   ],
   "source": [
    "# llm_2 = ChatOllama(model=\"koesn/llama3-openbiollm-8b\",\n",
    "#                     temperature=0.4)\n",
    "# print(llm_2)\n",
    "\n",
    "# from huggingface_hub import hf_hub_download\n",
    "# from llama_cpp import Llama\n",
    "\n",
    "# model_name = \"aaditya/OpenBioLLM-Llama3-8B-GGUF\"\n",
    "# model_file = \"openbiollm-llama3-8b.Q5_K_M.gguf\"\n",
    "\n",
    "# model_path = hf_hub_download(model_name,\n",
    "#                              filename=model_file,\n",
    "#                              local_dir='/content')\n",
    "# print(\"My model path: \", model_path)\n",
    "# llm_2 = Llama(model_path=model_path,\n",
    "#             n_gpu_layers=-1,\n",
    "#             temperature=0.5,\n",
    "#             max_tokens=4096,\n",
    "#             n_ctx=8000)"
   ]
  },
  {
   "cell_type": "markdown",
   "id": "2611bc73",
   "metadata": {},
   "source": [
    "## Create prompt template"
   ]
  },
  {
   "cell_type": "code",
   "execution_count": 13,
   "id": "b5d14dff",
   "metadata": {},
   "outputs": [],
   "source": [
    "prompt = ChatPromptTemplate.from_messages([\n",
    "    (\"system\", \n",
    "     \"คุณคือผู้แพทย์เชี่ยวชาญด้านสุขภาพที่มีความรู้ลึกซึ้งทั้งจากประสบการณ์และฐานข้อมูลทางการแพทย์ \"\n",
    "     \"คุณจะต้องให้คำแนะนำที่แม่นยำและปลอดภัย โดยเริ่มต้นด้วยประโยค 'คำตอบจากแพทย์ผู้เชี่ยวชาญ' \"\n",
    "     \"จากนั้นให้คำตอบแบ่งเป็นหัวข้อ: สาเหตุที่เป็นไปได้, แนวทางการดูแลเบื้องต้น, คำแนะนำเพิ่มเติม \"\n",
    "     \" ใส่ข้อความ 'คนไข้สามารถค้นหาแพทย์เฉพาะทางที่ต้องการและทำนัดหมายได้ทางเว็บไซต์ของเราที่ลิ้งค์นี้ \\nhttps://bit.ly/doctor-refer-agnos' ในช่วงท้ายของการสนทนา\"),\n",
    "    \n",
    "    (\"human\", \n",
    "     \"มีผู้ป่วยที่มีข้อมูลดังนี้:\\n\"\n",
    "     \"- หัวข้อ: {subject}\\n\"\n",
    "     \"- เพศ: {gender}\\n\"\n",
    "     \"- อายุ: {age} ปี\\n\"\n",
    "     \"- อาการ: {symptoms}\\n\"\n",
    "     \"- คำถาม: {question}\\n\"\n",
    "     \"ข้อมูลจากฐานข้อมูลที่เกี่ยวข้อง:\\n{context}\\n\"\n",
    "     \"กรุณาวิเคราะห์และให้คำตอบอย่างละเอียด โดยอ้างอิงจากทั้งความรู้ของคุณและข้อมูลที่ให้มาในส่วนของ context อย่างรอบคอบ\"\n",
    "     \"หากข้อมูลใน context ไม่เพียงพอ ให้ใช้ความรู้ทั่วไปของคุณในการตอบคำถามอย่างระมัดระวังและแนะนำให้ผู้ป่วยไปพบแพทย์ผู้เชี่ยวชาญ\"\n",
    "     )\n",
    "])"
   ]
  },
  {
   "cell_type": "code",
   "execution_count": 14,
   "id": "f28ef2a7",
   "metadata": {},
   "outputs": [],
   "source": [
    "from langchain.schema.runnable import RunnableLambda\n",
    "\n",
    "def fill_missing_fields(inputs):\n",
    "    return {\n",
    "        \"subject\": inputs.get(\"subject\", \"ไม่ระบุ\"),\n",
    "        \"gender\": inputs.get(\"gender\", \"ไม่ระบุ\"),\n",
    "        \"age\": inputs.get(\"age\", \"ไม่ระบุ\"),\n",
    "        \"symptoms\": inputs.get(\"symptoms\", \"ไม่ระบุ\"),\n",
    "        \"question\": inputs.get(\"question\", \"ไม่ระบุ\"),\n",
    "        \"context\": inputs.get(\"context\", \"ไม่มีข้อมูลจากฐานข้อมูล\")\n",
    "    }\n",
    "\n",
    "input_preprocessor = RunnableLambda(fill_missing_fields)\n"
   ]
  },
  {
   "cell_type": "code",
   "execution_count": 15,
   "id": "6c0d49bb",
   "metadata": {},
   "outputs": [],
   "source": [
    "rag_chain = (\n",
    "    {\n",
    "        \"context\": retriever,\n",
    "        \"subject\": RunnablePassthrough(),\n",
    "        \"gender\": RunnablePassthrough(),\n",
    "        \"age\": RunnablePassthrough(),\n",
    "        \"symptoms\": RunnablePassthrough(),\n",
    "        \"question\": RunnablePassthrough(),\n",
    "\n",
    "    }\n",
    "    | input_preprocessor\n",
    "    | prompt\n",
    "    | llm\n",
    "    | StrOutputParser()\n",
    ")"
   ]
  },
  {
   "cell_type": "code",
   "execution_count": null,
   "id": "d9d43d82",
   "metadata": {},
   "outputs": [],
   "source": [
    "# rag_chain_2 = (\n",
    "#     {\n",
    "#         \"context\": retriever,\n",
    "#         \"subject\": RunnablePassthrough(),\n",
    "#         \"gender\": RunnablePassthrough(),\n",
    "#         \"age\": RunnablePassthrough(),\n",
    "#         \"symptoms\": RunnablePassthrough(),\n",
    "#         \"question\": RunnablePassthrough(),\n",
    "\n",
    "#     }\n",
    "#     | input_preprocessor\n",
    "#     | prompt\n",
    "#     | llm_2\n",
    "#     | StrOutputParser()\n",
    "# )"
   ]
  },
  {
   "cell_type": "code",
   "execution_count": 16,
   "id": "c290fc71",
   "metadata": {},
   "outputs": [],
   "source": [
    "data_input =[ {\n",
    "    \"subject\": \"อาการปวดหัวเรื้อรัง\",\n",
    "    \"gender\": \"หญิง\",\n",
    "    \"age\": \"35\",\n",
    "    \"symptoms\": \"ปวดหัวบริเวณขมับทั้งสองข้างมาเกือบทุกวัน โดยเฉพาะช่วงบ่าย รู้สึกตึงๆ และมีอาการคลื่นไส้ร่วมด้วย\",\n",
    "    \"question\": \"อาการแบบนี้เกิดจากอะไร และควรดูแลตัวเองอย่างไร?\"\n",
    "},\n",
    "{\n",
    "    \"subject\": \"การนอนหลับในผู้สูงอายุ\",\n",
    "    \"gender\": \"ชาย\",\n",
    "    \"age\": \"68\",\n",
    "    \"symptoms\": \"นอนหลับไม่สนิท ตื่นบ่อยตอนกลางคืน และรู้สึกไม่สดชื่นตอนเช้า\",\n",
    "    \"question\": \"ควรปรับพฤติกรรมหรือมีวิธีดูแลสุขภาพอย่างไรให้หลับดีขึ้น?\"\n",
    "},\n",
    "{\n",
    "    \"subject\": \"ภาวะขาดวิตามินบี 12 (Vitamin B12 deficiency)\",\n",
    "    \"gender\": \"หญิง\",\n",
    "    \"age\": \"29\",\n",
    "    \"symptoms\": [\n",
    "      \"เหนื่อยง่าย\",\n",
    "      \"มือเท้าชา\",\n",
    "      \"เวียนหัว\",\n",
    "      \"ลืมง่าย\",\n",
    "      \"อ่อนแรง\"\n",
    "    ],\n",
    "    \"question\": \"ช่วงนี้รู้สึกเหนื่อยง่ายมากค่ะ เดินนิดเดียวก็หอบ มือเท้าชาบ่อย ๆ โดยเฉพาะตอนตื่นนอน รู้สึกเวียนหัวและลืมง่ายขึ้นเรื่อย ๆ อยากทราบว่าอาการแบบนี้เกิดจากอะไร และควรตรวจอะไรบ้างคะ?\"\n",
    "  },\n",
    "  {\n",
    "    \"subject\": \"โรคกรดไหลย้อน (GERD)\",\n",
    "    \"gender\": \"ชาย\",\n",
    "    \"age\": \"34\",\n",
    "    \"symptoms\": [\n",
    "      \"แสบร้อนกลางอก\",\n",
    "      \"เรอเปรี้ยว\",\n",
    "      \"ไอเรื้อรัง\",\n",
    "      \"แน่นหน้าอก\",\n",
    "      \"กลืนลำบาก\"\n",
    "    ],\n",
    "    \"question\": \"ผมมีอาการแสบร้อนกลางอกหลังทานอาหาร โดยเฉพาะอาหารเผ็ดหรือมัน ๆ เรอเปรี้ยวบ่อยมาก และบางครั้งรู้สึกแน่นหน้าอกจนหายใจไม่สะดวก อยากทราบว่าเป็นกรดไหลย้อนหรือเปล่า และควรปรับพฤติกรรมยังไงครับ?\"\n",
    "  },\n",
    "  {\n",
    "    \"subject\": \"ภาวะถุงน้ำรังไข่หลายใบ (PCOS)\",\n",
    "    \"gender\": \"หญิง\",\n",
    "    \"age\": \"26\",\n",
    "    \"symptoms\": [\n",
    "      \"ประจำเดือนมาไม่ปกติ\",\n",
    "      \"สิวขึ้นเยอะ\",\n",
    "      \"ขนดก\",\n",
    "      \"น้ำหนักขึ้นง่าย\",\n",
    "      \"ปวดท้องน้อย\"\n",
    "    ],\n",
    "    \"question\": \"ประจำเดือนมาไม่ตรงเวลาเลยค่ะ บางเดือนก็ไม่มาเลย สิวขึ้นเยอะมากทั้งที่ดูแลผิวดีแล้ว ขนตามตัวก็ดูเยอะขึ้น น้ำหนักขึ้นง่ายมากทั้งที่กินเท่าเดิม อยากทราบว่าอาการแบบนี้เกี่ยวกับฮอร์โมนหรือเปล่า และควรไปตรวจอะไรบ้างคะ?\"\n",
    "  },\n",
    "  {\n",
    "    \"subject\": \"โรคภูมิแพ้อากาศ (Allergic Rhinitis)\",\n",
    "    \"gender\": \"ชาย\",\n",
    "    \"age\": \"18\",\n",
    "    \"symptoms\": [\n",
    "      \"จามบ่อย\",\n",
    "      \"คัดจมูก\",\n",
    "      \"น้ำมูกไหล\",\n",
    "      \"คันจมูก\",\n",
    "      \"ตาแดง\"\n",
    "    ],\n",
    "    \"question\": \"ผมมีอาการจามบ่อยมาก โดยเฉพาะตอนเช้า ๆ หรือเวลาอยู่ในห้องแอร์ น้ำมูกไหล คัดจมูก และบางครั้งตาแดงคันร่วมด้วย อยากทราบว่าเป็นภูมิแพ้อากาศหรือเปล่า และมีวิธีดูแลตัวเองยังไงบ้างครับ?\"\n",
    "  }\n",
    "]"
   ]
  },
  {
   "cell_type": "code",
   "execution_count": 17,
   "id": "0e392f99",
   "metadata": {},
   "outputs": [
    {
     "name": "stdout",
     "output_type": "stream",
     "text": [
      "คำตอบจากแพทย์ผู้เชี่ยวชาญ\n",
      "\n",
      "สาเหตุที่เป็นไปได้:\n",
      "อาการแสบอก, แสบคอ, ท้องอืด, อาหารไม่ย่อย, จุกคอที่ผู้ป่วยมี อาจเกิดจากกรดไหลย้อน (GERD) ซึ่งเป็นสภาวะที่กรดในกระเพาะอาหารไหลย้อนขึ้นไปในหลอดอาหาร ทำให้เกิดอาการแสบคอและจุกแน่นท้องได้\n",
      "\n",
      "แนวทางการดูแลเบื้องต้น:\n",
      "1. ทานยาลดกรด: เช่น omeprazole หรือ ranitidine เพื่อลดปริมาณกรดในกระเพาะอาหาร\n",
      "2. ปรับพฤติกรรมการทานอาหาร: หลีกเลี่ยงการกินอาหารที่มีไขมันสูง, เผ็ด, อาหารรสเปรี้ยวหรือเปรี้ยวจัด, น้ำอัดลม และกาแฟ\n",
      "3. รักษาน้ำหนักให้เหมาะสม: การมีน้ำหนักเกินอาจทำให้เกิดกรดไหลย้อนได้ง่ายขึ้น\n",
      "4. หลีกเลี่ยงการนอนหลังทานอาหาร: ควรเว้นระยะเวลาอย่างน้อย 2-3 ชั่วโมงระหว่างการทานอาหารกับการนอน\n",
      "\n",
      "คำแนะนำเพิ่มเติม:\n",
      "หากอาการไม่ดีขึ้นภายใน 1-2 สัปดาห์ หรือมีอาการรุนแรงขึ้น เช่น ไอเรื้อรัง, แสบคอหรือเจ็บหน้าอกอย่างต่อเนื่อง ควรไปพบแพทย์เพื่อทำการตรวจวินิจฉัยและรับการรักษาที่เหมาะสม\n",
      "\n",
      "คนไข้สามารถค้นหาแพทย์เฉพาะทางที่ต้องการและทำนัดหมายได้ทางเว็บไซต์ของเราที่ลิ้งค์นี้ \n",
      "https://bit.ly/doctor-refer-agnos\n"
     ]
    }
   ],
   "source": [
    "my_question = rag_chain.invoke({    \n",
    "    \"subject\": \"กรดไหลย้อน อาหารไม่ย่อย\",\n",
    "    \"gender\": \"ชาย\",\n",
    "    \"age\": \"24\",\n",
    "    \"symptoms\": \"แสบอก, แสบคอ, ท้องอืด, อาหารไม่ย่อย, จุกคอ\",\n",
    "    \"question\": \"มีคืนนึงตอนผมกำลังจะนอนจู่ๆผมก็รู้สึกแสบคอขึ้นมา แล้วพอตื่นมาก็รู้สึกว่าเหมือนมีก้อนอะไรมาจุกที่คอ ผมเลยค้นหาจากอินเตอร์เน็ตก็พบว่าผมเป็นกรดไหลย้อนจึงไปซื้อยาที่ร้านขายยามากินเป็นเวลา 1 อาทิตย์ จนพอผมเริ่มรู้สึกดีขึ้นผมจึงไปกินบุฟเฟ่ต์ชาบูแล้วทีนี้ผมรู้สึกว่าอาหารมันไม่ย่อยเลยแม้แต่ตอนกำลังจะนอนก็รู้สึกได้ว่ามีอาหารอยู่ในท้องจนถึงวัดถัดไป ควรรักษาต่อยังไงดีครับ\"\n",
    "})\n",
    "\n",
    "print(my_question)"
   ]
  },
  {
   "cell_type": "code",
   "execution_count": null,
   "id": "101a1f30",
   "metadata": {},
   "outputs": [
    {
     "name": "stdout",
     "output_type": "stream",
     "text": [
      "คำตอบจากแพทย์ผู้เชี่ยวชาญ\n",
      "\n",
      "สาเหตุที่เป็นไปได้:\n",
      "อาการนอนไม่หลับอาจเกิดจากหลายสาเหตุ เช่น ความเครียด, โรคทางจิตเวชบางอย่าง, หรือปัญหาทางกายภาพที่ทำให้เกิดการรบกวนในการนอนหลับ\n",
      "\n",
      "แนวทางการดูแลเบื้องต้น:\n",
      "1. จัดห้องนอนให้มีบรรยากาศเงียบสงบ ไม่มีแสงเสียงรบกวน และมีอากาศถ่ายเทสะดวก\n",
      "2. ใช้ห้องนอนเพื่อการนอนเท่านั้น ไม่ใช้ห้องนอนทำกิจกรรมอื่น เช่น ดูทีวี ทำงาน อ่านหนังสือ\n",
      "3. ก่อนนอน 1 ชั่วโมงควรมีเวลาให้ตัวเองได้พักผ่อนสบายๆ พยายามไม่คิดเรื่องเครียด เรื่องกังวลต่างๆ\n",
      "4. เข้านอนเมื่อง่วงนอนเท่านั้น\n",
      "5. ถ้าหากเข้านอนไปนาน 15-20 นาทีแล้วยังนอนไม่หลับก็ควรลุกขึ้นมาจากที่นอนเพื่อหากิจกรรมเบาๆทำก่อน แล้วกลับเข้าไปนอนเมื่อรู้สึกง่วงนอนอีกครั้ง\n",
      "6. ตื่นนอนให้เป็นเวลาเดียวกันของทุกวัน\n",
      "7. ออกกำลังกายอย่างสม่ำเสมอ แต่ไม่ควรออกกำลังกายหักโหมก่อนนอนเพราะจะทำให้นอนไม่หลับมากขึ้น\n",
      "8. ไม่นอนกลางวัน\n",
      "9. ไม่ดื่มชา กาแฟ หลังเที่ยงวัน\n",
      "10. ไม่สูบบุหรี่หรือดื่มสุราก่อนนอน\n",
      "\n",
      "คำแนะนำเพิ่มเติม:\n",
      "หากปฏิบัติตามแนวทางการดูแลเบื้องต้นแล้ว 1-2 สัปดาห์การนอนยังไม่ดีขึ้น ควรไปพบจิตแพทย์เพื่อตรวจประเมินอาการเพิ่มเติมและพิจารณาการรักษาที่เหมาะสม\n",
      "\n",
      "คนไข้สามารถค้นหาแพทย์เฉพาะทางที่ต้องการและทำนัดหมายได้ทางเว็บไซต์ของเราที่ลิ้งค์นี้ \n",
      "https://bit.ly/doctor-refer-agnos\n"
     ]
    }
   ],
   "source": [
    "my_question = rag_chain.invoke({    \n",
    "    \"question\": \"สวัสดีครับคือช่วงนี้ผมนอนไม่ค่อยหลับเวลานอนมันก็จะคิดฟุ้งซ่านตลอดเวลาหรือบางทีก็มีเพลงเล่นในหัวตลอดเวลาเลยทำให้นอนไม่พอ พอจะมีวิธีไหนช่วยจัดการไหมครับ\"\n",
    "})\n",
    "\n",
    "print(my_question)"
   ]
  },
  {
   "cell_type": "code",
   "execution_count": null,
   "id": "1f99efde",
   "metadata": {},
   "outputs": [
    {
     "name": "stdout",
     "output_type": "stream",
     "text": [
      "{'answer': 'The patient is experiencing difficulty sleeping and feelings of restlessness, which may be associated with bipolar disorder or another mood disorder. It is important to seek medical advice for proper diagnosis and treatment.'}\n"
     ]
    }
   ],
   "source": [
    "# my_question_x2 = rag_chain_2.invoke({    \n",
    "#     \"question\": \"สวัสดีครับคือช่วงนี้ผมนอนไม่ค่อยหลับเวลานอนมันก็จะคิดฟุ้งซ่านตลอดเวลาหรือบางทีก็มีเพลงเล่นในหัวตลอดเวลาเลยทำให้นอนไม่พอ พอจะมีวิธีไหนช่วยจัดการไหมครับ\"\n",
    "# })\n",
    "\n",
    "# print(my_question_x2)"
   ]
  }
 ],
 "metadata": {
  "kernelspec": {
   "display_name": "Python 3",
   "language": "python",
   "name": "python3"
  },
  "language_info": {
   "codemirror_mode": {
    "name": "ipython",
    "version": 3
   },
   "file_extension": ".py",
   "mimetype": "text/x-python",
   "name": "python",
   "nbconvert_exporter": "python",
   "pygments_lexer": "ipython3",
   "version": "3.13.3"
  }
 },
 "nbformat": 4,
 "nbformat_minor": 5
}
